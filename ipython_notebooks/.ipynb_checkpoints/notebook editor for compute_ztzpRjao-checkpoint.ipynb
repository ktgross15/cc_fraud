{
  "nbformat": 4,
  "nbformat_minor": 0,
  "metadata": {
    "kernelspec": {
      "display_name": "Python 3",
      "language": "python",
      "name": "python3"
    },
    "associatedRecipe": "compute_ztzpRjao",
    "dkuGit": {
      "lastInteraction": 0
    },
    "creationTag": {
      "versionNumber": 0,
      "lastModifiedBy": {
        "login": "ktgross15"
      },
      "lastModifiedOn": 1641932570819
    },
    "creator": "ktgross15",
    "createdOn": 1641932570819,
    "tags": [
      "recipe-editor"
    ],
    "customFields": {}
  },
  "cells": [
    {
      "cell_type": "code",
      "metadata": {},
      "outputs": [],
      "execution_count": 0,
      "source": [
        "# -*- coding: utf-8 -*-\n",
        "import dataiku\n",
        "import pandas as pd\n",
        "import numpy as np\n",
        "import datetime\n",
        "import pickle\n",
        "from sklearn.ensemble import RandomForestClassifier"
      ]
    },
    {
      "cell_type": "code",
      "metadata": {},
      "outputs": [],
      "execution_count": 0,
      "source": [
        "# Read recipe inputs\n",
        "transactions_known \u003d dataiku.Dataset(\"transactions_known\")\n",
        "df \u003d transactions_known.get_dataframe(limit\u003d10000)\n",
        "\n",
        "#yooooo"
      ]
    },
    {
      "cell_type": "code",
      "metadata": {},
      "outputs": [],
      "execution_count": 0,
      "source": [
        "df.head()"
      ]
    },
    {
      "cell_type": "code",
      "metadata": {},
      "outputs": [],
      "execution_count": 0,
      "source": [
        "df.dropna(inplace\u003dTrue)"
      ]
    },
    {
      "cell_type": "code",
      "metadata": {},
      "outputs": [],
      "execution_count": 0,
      "source": [
        "features \u003d [\u0027purchase_month\u0027,\u0027purchase_dow\u0027,\u0027purchase_hour\u0027,\u0027merchant_category_id\u0027,\u0027purchase_amount\u0027,\u0027days_active\u0027,\n",
        "            \u0027card_fico_score\u0027,\u0027card_age\u0027,\u0027merchant_cardholder_distance\u0027]\n",
        "target \u003d \u0027authorized_flag\u0027\n",
        "\n",
        "X \u003d df[features].values\n",
        "y \u003d df[target]"
      ]
    },
    {
      "cell_type": "code",
      "metadata": {},
      "outputs": [],
      "execution_count": 0,
      "source": [
        "model \u003d RandomForestClassifier()\n",
        "model.fit(X, y)"
      ]
    },
    {
      "cell_type": "code",
      "metadata": {},
      "outputs": [],
      "execution_count": 0,
      "source": [
        "today \u003d datetime.date.today()\n",
        "filename \u003d \u0027model_{}-{}-{}.pkl\u0027.format(today.year, today.month, today.day)\n",
        "\n",
        "model_folder \u003d dataiku.Folder(\"model_folder\")\n",
        "with model_folder.get_writer(filename) as w:\n",
        "    pickle.dump(model, w)"
      ]
    },
    {
      "cell_type": "code",
      "metadata": {},
      "outputs": [],
      "execution_count": 0,
      "source": [
        "# Write recipe outputs\n",
        "# model_folder \u003d dataiku.Folder(\"ztzpRjao\")\n",
        "# model_folder_info \u003d model_folder.get_info()"
      ]
    }
  ]
}