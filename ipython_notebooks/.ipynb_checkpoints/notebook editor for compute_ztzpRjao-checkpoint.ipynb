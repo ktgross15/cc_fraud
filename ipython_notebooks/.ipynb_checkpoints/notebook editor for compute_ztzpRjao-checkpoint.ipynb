{
  "nbformat": 4,
  "nbformat_minor": 0,
  "metadata": {
    "kernelspec": {
      "display_name": "Python 3",
      "language": "python",
      "name": "python3"
    },
    "associatedRecipe": "compute_ztzpRjao",
    "creator": "ktgross15",
    "createdOn": 1641932570819,
    "tags": [
      "recipe-editor"
    ],
    "customFields": {}
  },
  "cells": [
    {
      "cell_type": "code",
      "metadata": {},
      "outputs": [],
      "execution_count": 0,
      "source": [
        "# -*- coding: utf-8 -*-\n",
        "import dataiku\n",
        "import pandas as pd, numpy as np\n",
        "from dataiku import pandasutils as pdu\n",
        "\n",
        "# Read recipe inputs\n",
        "transactions_known \u003d dataiku.Dataset(\"transactions_known\")\n",
        "transactions_known_df \u003d transactions_known.get_dataframe()\n",
        "\n",
        "\n",
        "\n",
        "\n",
        "# Write recipe outputs\n",
        "model_folder \u003d dataiku.Folder(\"ztzpRjao\")\n",
        "model_folder_info \u003d model_folder.get_info()"
      ]
    }
  ]
}