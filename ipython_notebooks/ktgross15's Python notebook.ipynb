{
  "metadata": {
    "kernelspec": {
      "name": "python3",
      "display_name": "Python 3",
      "language": "python"
    },
    "creator": "ktgross15",
    "createdOn": 1643313023191,
    "tags": [],
    "customFields": {},
    "hide_input": false,
    "language_info": {
      "name": "python",
      "version": "3.6.8",
      "mimetype": "text/x-python",
      "codemirror_mode": {
        "name": "ipython",
        "version": 3
      },
      "pygments_lexer": "ipython3",
      "nbconvert_exporter": "python",
      "file_extension": ".py"
    },
    "modifiedBy": "ktgross15"
  },
  "nbformat": 4,
  "nbformat_minor": 1,
  "cells": [
    {
      "execution_count": 3,
      "cell_type": "code",
      "metadata": {},
      "source": [
        "import dataiku\nfrom dataiku import pandasutils as pdu\nimport pandas as pd"
      ],
      "outputs": []
    },
    {
      "execution_count": 5,
      "cell_type": "code",
      "metadata": {},
      "source": [
        "client \u003d dataiku.api_client()"
      ],
      "outputs": []
    },
    {
      "execution_count": 17,
      "cell_type": "code",
      "metadata": {},
      "source": [
        "project \u003d client.get_project(dataiku.default_project_key())"
      ],
      "outputs": []
    },
    {
      "execution_count": 19,
      "cell_type": "code",
      "metadata": {},
      "source": [
        "project.list_managed_folders()"
      ],
      "outputs": [
        {
          "output_type": "execute_result",
          "execution_count": 19,
          "data": {
            "text/plain": "[{\u0027checklists\u0027: {\u0027checklists\u0027: []},\n  \u0027checks\u0027: {\u0027checks\u0027: [],\n   \u0027displayedState\u0027: {\u0027checks\u0027: [], \u0027partition\u0027: \u0027NP\u0027},\n   \u0027runOnBuild\u0027: False},\n  \u0027creationTag\u0027: {\u0027lastModifiedBy\u0027: {\u0027login\u0027: \u0027ktgross15\u0027},\n   \u0027lastModifiedOn\u0027: 1641932561983,\n   \u0027versionNumber\u0027: 0},\n  \u0027customFields\u0027: {},\n  \u0027flowOptions\u0027: {\u0027crossProjectBuildBehavior\u0027: \u0027DEFAULT\u0027,\n   \u0027rebuildBehavior\u0027: \u0027NORMAL\u0027,\n   \u0027virtualizable\u0027: False},\n  \u0027id\u0027: \u0027ztzpRjao\u0027,\n  \u0027metrics\u0027: {\u0027displayedState\u0027: {\u0027columns\u0027: [],\n    \u0027metrics\u0027: [\u0027basic:COUNT_FILES\u0027, \u0027basic:SIZE\u0027],\n    \u0027partition\u0027: \u0027NP\u0027},\n   \u0027engineConfig\u0027: {\u0027basic\u0027: {},\n    \u0027dss\u0027: {\u0027active\u0027: True,\n     \u0027selection\u0027: {\u0027filter\u0027: {\u0027distinct\u0027: False, \u0027enabled\u0027: False},\n      \u0027latestPartitionsN\u0027: 1,\n      \u0027maxReadUncompressedBytes\u0027: -1,\n      \u0027maxRecords\u0027: -1,\n      \u0027ordering\u0027: {\u0027enabled\u0027: False, \u0027rules\u0027: []},\n      \u0027partitionSelectionMethod\u0027: \u0027ALL\u0027,\n      \u0027samplingMethod\u0027: \u0027FULL\u0027,\n      \u0027targetRatio\u0027: 0.02,\n      \u0027useMemTable\u0027: False,\n      \u0027withinFirstN\u0027: -1}},\n    \u0027hive\u0027: {\u0027active\u0027: True, \u0027extraConf\u0027: []},\n    \u0027impala\u0027: {\u0027active\u0027: True},\n    \u0027padRunsWithMetrics\u0027: False,\n    \u0027python\u0027: {},\n    \u0027spark\u0027: {\u0027active\u0027: True, \u0027extraConf\u0027: []},\n    \u0027sql\u0027: {\u0027active\u0027: True}},\n   \u0027probes\u0027: [{\u0027computeOnBuildMode\u0027: \u0027PARTITION\u0027,\n     \u0027configuration\u0027: {},\n     \u0027enabled\u0027: True,\n     \u0027meta\u0027: {\u0027level\u0027: 0, \u0027name\u0027: \u0027Basic data\u0027},\n     \u0027type\u0027: \u0027basic\u0027}]},\n  \u0027name\u0027: \u0027model_folder\u0027,\n  \u0027params\u0027: {\u0027connection\u0027: \u0027filesystem_folders\u0027,\n   \u0027filesSelectionRules\u0027: {\u0027excludeRules\u0027: [],\n    \u0027explicitFiles\u0027: [],\n    \u0027includeRules\u0027: [],\n    \u0027mode\u0027: \u0027ALL\u0027},\n   \u0027notReadyIfEmpty\u0027: False,\n   \u0027path\u0027: \u0027${projectKey}/${odbId}\u0027},\n  \u0027projectKey\u0027: \u0027CREDITCARDFRAUD\u0027,\n  \u0027tags\u0027: [],\n  \u0027type\u0027: \u0027Filesystem\u0027,\n  \u0027versionTag\u0027: {\u0027lastModifiedBy\u0027: {\u0027login\u0027: \u0027ktgross15\u0027},\n   \u0027lastModifiedOn\u0027: 1641932561982,\n   \u0027versionNumber\u0027: 0}}]"
          },
          "metadata": {}
        }
      ]
    },
    {
      "execution_count": 25,
      "cell_type": "code",
      "metadata": {},
      "source": [
        ""
      ],
      "outputs": []
    },
    {
      "execution_count": 0,
      "cell_type": "code",
      "metadata": {},
      "source": [
        "folder \u003d dataiku.Folder(\u0027model_folder\u0027)\nfile_path \u003d os.path.join(\"\", \"model.pkl\")"
      ],
      "outputs": []
    },
    {
      "execution_count": 0,
      "cell_type": "code",
      "metadata": {},
      "source": [
        ""
      ],
      "outputs": []
    }
  ]
}