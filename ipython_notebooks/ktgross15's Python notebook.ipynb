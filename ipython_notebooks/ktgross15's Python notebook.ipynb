{
  "metadata": {
    "kernelspec": {
      "name": "python3",
      "display_name": "Python 3",
      "language": "python"
    },
    "creator": "ktgross15",
    "createdOn": 1643313023191,
    "tags": [],
    "customFields": {},
    "hide_input": false,
    "language_info": {
      "name": "python",
      "version": "3.6.8",
      "mimetype": "text/x-python",
      "codemirror_mode": {
        "name": "ipython",
        "version": 3
      },
      "pygments_lexer": "ipython3",
      "nbconvert_exporter": "python",
      "file_extension": ".py"
    },
    "modifiedBy": "ktgross15"
  },
  "nbformat": 4,
  "nbformat_minor": 1,
  "cells": [
    {
      "execution_count": 3,
      "cell_type": "code",
      "metadata": {},
      "source": [
        "import dataiku\nfrom dataiku import pandasutils as pdu\nimport pandas as pd"
      ],
      "outputs": []
    },
    {
      "execution_count": 5,
      "cell_type": "code",
      "metadata": {},
      "source": [
        "client \u003d dataiku.api_client()"
      ],
      "outputs": []
    },
    {
      "execution_count": 17,
      "cell_type": "code",
      "metadata": {},
      "source": [
        "project \u003d client.get_project(dataiku.default_project_key())"
      ],
      "outputs": []
    },
    {
      "execution_count": 19,
      "cell_type": "code",
      "metadata": {},
      "source": [
        "project.list_managed_folders()"
      ],
      "outputs": [
        {
          "output_type": "execute_result",
          "execution_count": 19,
          "data": {
            "text/plain": "[{\u0027checklists\u0027: {\u0027checklists\u0027: []},\n  \u0027checks\u0027: {\u0027checks\u0027: [],\n   \u0027displayedState\u0027: {\u0027checks\u0027: [], \u0027partition\u0027: \u0027NP\u0027},\n   \u0027runOnBuild\u0027: False},\n  \u0027creationTag\u0027: {\u0027lastModifiedBy\u0027: {\u0027login\u0027: \u0027ktgross15\u0027},\n   \u0027lastModifiedOn\u0027: 1641932561983,\n   \u0027versionNumber\u0027: 0},\n  \u0027customFields\u0027: {},\n  \u0027flowOptions\u0027: {\u0027crossProjectBuildBehavior\u0027: \u0027DEFAULT\u0027,\n   \u0027rebuildBehavior\u0027: \u0027NORMAL\u0027,\n   \u0027virtualizable\u0027: False},\n  \u0027id\u0027: \u0027ztzpRjao\u0027,\n  \u0027metrics\u0027: {\u0027displayedState\u0027: {\u0027columns\u0027: [],\n    \u0027metrics\u0027: [\u0027basic:COUNT_FILES\u0027, \u0027basic:SIZE\u0027],\n    \u0027partition\u0027: \u0027NP\u0027},\n   \u0027engineConfig\u0027: {\u0027basic\u0027: {},\n    \u0027dss\u0027: {\u0027active\u0027: True,\n     \u0027selection\u0027: {\u0027filter\u0027: {\u0027distinct\u0027: False, \u0027enabled\u0027: False},\n      \u0027latestPartitionsN\u0027: 1,\n      \u0027maxReadUncompressedBytes\u0027: -1,\n      \u0027maxRecords\u0027: -1,\n      \u0027ordering\u0027: {\u0027enabled\u0027: False, \u0027rules\u0027: []},\n      \u0027partitionSelectionMethod\u0027: \u0027ALL\u0027,\n      \u0027samplingMethod\u0027: \u0027FULL\u0027,\n      \u0027targetRatio\u0027: 0.02,\n      \u0027useMemTable\u0027: False,\n      \u0027withinFirstN\u0027: -1}},\n    \u0027hive\u0027: {\u0027active\u0027: True, \u0027extraConf\u0027: []},\n    \u0027impala\u0027: {\u0027active\u0027: True},\n    \u0027padRunsWithMetrics\u0027: False,\n    \u0027python\u0027: {},\n    \u0027spark\u0027: {\u0027active\u0027: True, \u0027extraConf\u0027: []},\n    \u0027sql\u0027: {\u0027active\u0027: True}},\n   \u0027probes\u0027: [{\u0027computeOnBuildMode\u0027: \u0027PARTITION\u0027,\n     \u0027configuration\u0027: {},\n     \u0027enabled\u0027: True,\n     \u0027meta\u0027: {\u0027level\u0027: 0, \u0027name\u0027: \u0027Basic data\u0027},\n     \u0027type\u0027: \u0027basic\u0027}]},\n  \u0027name\u0027: \u0027model_folder\u0027,\n  \u0027params\u0027: {\u0027connection\u0027: \u0027filesystem_folders\u0027,\n   \u0027filesSelectionRules\u0027: {\u0027excludeRules\u0027: [],\n    \u0027explicitFiles\u0027: [],\n    \u0027includeRules\u0027: [],\n    \u0027mode\u0027: \u0027ALL\u0027},\n   \u0027notReadyIfEmpty\u0027: False,\n   \u0027path\u0027: \u0027${projectKey}/${odbId}\u0027},\n  \u0027projectKey\u0027: \u0027CREDITCARDFRAUD\u0027,\n  \u0027tags\u0027: [],\n  \u0027type\u0027: \u0027Filesystem\u0027,\n  \u0027versionTag\u0027: {\u0027lastModifiedBy\u0027: {\u0027login\u0027: \u0027ktgross15\u0027},\n   \u0027lastModifiedOn\u0027: 1641932561982,\n   \u0027versionNumber\u0027: 0}}]"
          },
          "metadata": {}
        }
      ]
    },
    {
      "execution_count": 0,
      "cell_type": "code",
      "metadata": {},
      "source": [
        ""
      ],
      "outputs": []
    },
    {
      "execution_count": 0,
      "cell_type": "code",
      "metadata": {},
      "source": [
        ""
      ],
      "outputs": []
    },
    {
      "execution_count": 0,
      "cell_type": "code",
      "metadata": {},
      "source": [
        ""
      ],
      "outputs": []
    },
    {
      "execution_count": 33,
      "cell_type": "code",
      "metadata": {},
      "source": [
        "import os\nimport pickle\n\nfolder \u003d dataiku.Folder(\u0027model_folder\u0027)\nfile_path \u003d os.path.join(folder.get_path(), \"model.pkl\")"
      ],
      "outputs": []
    },
    {
      "execution_count": 36,
      "cell_type": "code",
      "metadata": {},
      "source": [
        "with open(file_path) as f:\n    model \u003d pickle.load(f)"
      ],
      "outputs": [
        {
          "output_type": "error",
          "ename": "UnicodeDecodeError",
          "evalue": "\u0027utf-8\u0027 codec can\u0027t decode byte 0x80 in position 0: invalid start byte",
          "traceback": [
            "\u001b[0;31m---------------------------------------------------------------------------\u001b[0m",
            "\u001b[0;31mUnicodeDecodeError\u001b[0m                        Traceback (most recent call last)",
            "\u001b[0;32m\u003cipython-input-36-05218fd160ce\u003e\u001b[0m in \u001b[0;36m\u003cmodule\u003e\u001b[0;34m()\u001b[0m\n\u001b[1;32m      1\u001b[0m \u001b[0;32mwith\u001b[0m \u001b[0mopen\u001b[0m\u001b[0;34m(\u001b[0m\u001b[0mfile_path\u001b[0m\u001b[0;34m)\u001b[0m \u001b[0;32mas\u001b[0m \u001b[0mf\u001b[0m\u001b[0;34m:\u001b[0m\u001b[0;34m\u001b[0m\u001b[0;34m\u001b[0m\u001b[0m\n\u001b[0;32m----\u003e 2\u001b[0;31m     \u001b[0mmodel\u001b[0m \u001b[0;34m\u003d\u001b[0m \u001b[0mpickle\u001b[0m\u001b[0;34m.\u001b[0m\u001b[0mload\u001b[0m\u001b[0;34m(\u001b[0m\u001b[0mf\u001b[0m\u001b[0;34m)\u001b[0m\u001b[0;34m\u001b[0m\u001b[0;34m\u001b[0m\u001b[0m\n\u001b[0m",
            "\u001b[0;32m/Users/katiegross/.pyenv/versions/3.6.8/lib/python3.6/codecs.py\u001b[0m in \u001b[0;36mdecode\u001b[0;34m(self, input, final)\u001b[0m\n\u001b[1;32m    319\u001b[0m         \u001b[0;31m# decode input (taking the buffer into account)\u001b[0m\u001b[0;34m\u001b[0m\u001b[0;34m\u001b[0m\u001b[0;34m\u001b[0m\u001b[0m\n\u001b[1;32m    320\u001b[0m         \u001b[0mdata\u001b[0m \u001b[0;34m\u003d\u001b[0m \u001b[0mself\u001b[0m\u001b[0;34m.\u001b[0m\u001b[0mbuffer\u001b[0m \u001b[0;34m+\u001b[0m \u001b[0minput\u001b[0m\u001b[0;34m\u001b[0m\u001b[0;34m\u001b[0m\u001b[0m\n\u001b[0;32m--\u003e 321\u001b[0;31m         \u001b[0;34m(\u001b[0m\u001b[0mresult\u001b[0m\u001b[0;34m,\u001b[0m \u001b[0mconsumed\u001b[0m\u001b[0;34m)\u001b[0m \u001b[0;34m\u003d\u001b[0m \u001b[0mself\u001b[0m\u001b[0;34m.\u001b[0m\u001b[0m_buffer_decode\u001b[0m\u001b[0;34m(\u001b[0m\u001b[0mdata\u001b[0m\u001b[0;34m,\u001b[0m \u001b[0mself\u001b[0m\u001b[0;34m.\u001b[0m\u001b[0merrors\u001b[0m\u001b[0;34m,\u001b[0m \u001b[0mfinal\u001b[0m\u001b[0;34m)\u001b[0m\u001b[0;34m\u001b[0m\u001b[0;34m\u001b[0m\u001b[0m\n\u001b[0m\u001b[1;32m    322\u001b[0m         \u001b[0;31m# keep undecoded input until the next call\u001b[0m\u001b[0;34m\u001b[0m\u001b[0;34m\u001b[0m\u001b[0;34m\u001b[0m\u001b[0m\n\u001b[1;32m    323\u001b[0m         \u001b[0mself\u001b[0m\u001b[0;34m.\u001b[0m\u001b[0mbuffer\u001b[0m \u001b[0;34m\u003d\u001b[0m \u001b[0mdata\u001b[0m\u001b[0;34m[\u001b[0m\u001b[0mconsumed\u001b[0m\u001b[0;34m:\u001b[0m\u001b[0;34m]\u001b[0m\u001b[0;34m\u001b[0m\u001b[0;34m\u001b[0m\u001b[0m\n",
            "\u001b[0;31mUnicodeDecodeError\u001b[0m: \u0027utf-8\u0027 codec can\u0027t decode byte 0x80 in position 0: invalid start byte"
          ]
        }
      ]
    },
    {
      "execution_count": 0,
      "cell_type": "code",
      "metadata": {},
      "source": [
        ""
      ],
      "outputs": []
    }
  ]
}