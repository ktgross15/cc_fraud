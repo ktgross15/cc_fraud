{
  "metadata": {
    "kernelspec": {
      "name": "python3",
      "display_name": "Python 3",
      "language": "python"
    },
    "associatedRecipe": "compute_ztzpRjao",
    "creator": "ktgross15",
    "createdOn": 1641932570819,
    "tags": [
      "recipe-editor"
    ],
    "customFields": {},
    "hide_input": false,
    "language_info": {
      "name": "python",
      "version": "3.6.8",
      "mimetype": "text/x-python",
      "codemirror_mode": {
        "name": "ipython",
        "version": 3
      },
      "pygments_lexer": "ipython3",
      "nbconvert_exporter": "python",
      "file_extension": ".py"
    },
    "modifiedBy": "ktgross15"
  },
  "nbformat": 4,
  "nbformat_minor": 1,
  "cells": [
    {
      "execution_count": 1,
      "cell_type": "code",
      "metadata": {},
      "source": [
        "# -*- coding: utf-8 -*-\nimport dataiku\nimport pandas as pd, numpy as np"
      ],
      "outputs": []
    },
    {
      "execution_count": 0,
      "cell_type": "code",
      "metadata": {},
      "source": [
        "# Read recipe inputs\ntransactions_known \u003d dataiku.Dataset(\"transactions_known\")\ndf \u003d transactions_known.get_dataframe(limit\u003d10000)"
      ],
      "outputs": []
    },
    {
      "execution_count": 0,
      "cell_type": "code",
      "metadata": {},
      "source": [
        "df.head()"
      ],
      "outputs": []
    },
    {
      "execution_count": 0,
      "cell_type": "code",
      "metadata": {},
      "source": [
        "model \u003d RandomForestClassifier()\nmodel.fit(X, y)\n\ntoday \u003d datetime.date.today()\nfilename \u003d \u0027model_{}-{}-{}.pkl\u0027.format(today.year, today.month, today.day)\n\nmodel_folder \u003d dataiku.Folder(\"model_folder\")\nwith model_folder.get_writer(filename) as w:\n    pickle.dump(model, w)"
      ],
      "outputs": []
    },
    {
      "execution_count": 0,
      "cell_type": "code",
      "metadata": {},
      "source": [
        "# Write recipe outputs\nmodel_folder \u003d dataiku.Folder(\"ztzpRjao\")\nmodel_folder_info \u003d model_folder.get_info()"
      ],
      "outputs": []
    }
  ]
}