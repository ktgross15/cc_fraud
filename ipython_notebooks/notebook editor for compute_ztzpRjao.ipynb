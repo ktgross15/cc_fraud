{
  "nbformat": 4,
  "nbformat_minor": 0,
  "metadata": {
    "kernelspec": {
      "display_name": "Python 3",
      "language": "python",
      "name": "python3"
    },
    "associatedRecipe": "compute_ztzpRjao",
    "dkuGit": {
      "lastInteraction": 0
    },
    "creationTag": {
      "versionNumber": 0,
      "lastModifiedBy": {
        "login": "ktgross15"
      },
      "lastModifiedOn": 1641932570819
    },
    "creator": "ktgross15",
    "createdOn": 1641932570819,
    "tags": [
      "recipe-editor"
    ],
    "customFields": {}
  },
  "cells": [
    {
      "cell_type": "code",
      "metadata": {},
      "outputs": [],
      "execution_count": 0,
      "source": [
        "# -*- coding: utf-8 -*-\n",
        "import dataiku\n",
        "import pandas as pd, numpy as np"
      ]
    },
    {
      "cell_type": "code",
      "metadata": {},
      "outputs": [],
      "execution_count": 0,
      "source": [
        "# Read recipe inputs\n",
        "transactions_known \u003d dataiku.Dataset(\"transactions_known\")\n",
        "df \u003d transactions_known.get_dataframe(limit\u003d10000)"
      ]
    },
    {
      "cell_type": "code",
      "metadata": {},
      "outputs": [],
      "execution_count": 0,
      "source": [
        "df.head()"
      ]
    },
    {
      "cell_type": "code",
      "metadata": {},
      "outputs": [],
      "execution_count": 0,
      "source": [
        "model \u003d RandomForestClassifier()\n",
        "model.fit(X, y)\n",
        "\n",
        "today \u003d datetime.date.today()\n",
        "filename \u003d \u0027model_{}-{}-{}.pkl\u0027.format(today.year, today.month, today.day)\n",
        "\n",
        "model_folder \u003d dataiku.Folder(\"model_folder\")\n",
        "with model_folder.get_writer(filename) as w:\n",
        "    pickle.dump(model, w)"
      ]
    },
    {
      "cell_type": "code",
      "metadata": {},
      "outputs": [],
      "execution_count": 0,
      "source": [
        "# Write recipe outputs\n",
        "model_folder \u003d dataiku.Folder(\"ztzpRjao\")\n",
        "model_folder_info \u003d model_folder.get_info()"
      ]
    }
  ]
}