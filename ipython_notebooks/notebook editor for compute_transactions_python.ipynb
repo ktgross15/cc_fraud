{
  "nbformat": 4,
  "nbformat_minor": 0,
  "metadata": {
    "kernelspec": {
      "display_name": "Python 3",
      "language": "python",
      "name": "python3"
    },
    "associatedRecipe": "compute_transactions_python",
    "creator": "ktgross15",
    "createdOn": 1643140378577,
    "tags": [
      "recipe-editor"
    ],
    "customFields": {}
  },
  "cells": [
    {
      "cell_type": "code",
      "metadata": {},
      "outputs": [],
      "execution_count": 0,
      "source": [
        "# -*- coding: utf-8 -*-\n",
        "import dataiku\n",
        "import pandas as pd, numpy as np\n",
        "from dataiku import pandasutils as pdu\n",
        "\n",
        "# Read recipe inputs\n",
        "transactions_unknown_scored \u003d dataiku.Dataset(\"transactions_unknown_scored\")\n",
        "transactions_unknown_scored_df \u003d transactions_unknown_scored.get_dataframe()\n",
        "\n",
        "\n",
        "# Compute recipe outputs from inputs\n",
        "# TODO: Replace this part by your actual code that computes the output, as a Pandas dataframe\n",
        "# NB: DSS also supports other kinds of APIs for reading and writing data. Please see doc.\n",
        "\n",
        "transactions_python_df \u003d transactions_unknown_scored_df # For this sample code, simply copy input to output\n",
        "\n",
        "\n",
        "# Write recipe outputs\n",
        "transactions_python \u003d dataiku.Dataset(\"transactions_python\")\n",
        "transactions_python.write_with_schema(transactions_python_df)"
      ]
    }
  ]
}